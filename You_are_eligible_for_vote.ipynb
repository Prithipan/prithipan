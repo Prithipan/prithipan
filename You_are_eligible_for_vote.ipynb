{
  "nbformat": 4,
  "nbformat_minor": 0,
  "metadata": {
    "colab": {
      "provenance": [],
      "authorship_tag": "ABX9TyM8QFTSDzu2DpYxhpOZtvS4",
      "include_colab_link": true
    },
    "kernelspec": {
      "name": "python3",
      "display_name": "Python 3"
    },
    "language_info": {
      "name": "python"
    }
  },
  "cells": [
    {
      "cell_type": "markdown",
      "metadata": {
        "id": "view-in-github",
        "colab_type": "text"
      },
      "source": [
        "<a href=\"https://colab.research.google.com/github/Prithipan/prithipan/blob/main/You_are_eligible_for_vote.ipynb\" target=\"_parent\"><img src=\"https://colab.research.google.com/assets/colab-badge.svg\" alt=\"Open In Colab\"/></a>"
      ]
    },
    {
      "cell_type": "code",
      "source": [
        "age = int(input(\"Enter your Age : \"))\n",
        "if age>=18:\n",
        "    print(\"Eligible for vote\")\n",
        "else:\n",
        "    print(\"Not Eligible for vote\")"
      ],
      "metadata": {
        "colab": {
          "base_uri": "https://localhost:8080/"
        },
        "id": "8i5kdV1gRghN",
        "outputId": "a9cb3079-91e6-4499-fda8-b6f7da08a651"
      },
      "execution_count": 4,
      "outputs": [
        {
          "output_type": "stream",
          "name": "stdout",
          "text": [
            "Enter your Age : 12\n",
            "Not Eligible for vote\n"
          ]
        }
      ]
    }
  ]
}